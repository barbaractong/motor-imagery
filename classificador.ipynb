{
  "nbformat": 4,
  "nbformat_minor": 0,
  "metadata": {
    "colab": {
      "provenance": [],
      "include_colab_link": true
    },
    "kernelspec": {
      "name": "python3",
      "display_name": "Python 3"
    },
    "language_info": {
      "name": "python"
    }
  },
  "cells": [
    {
      "cell_type": "markdown",
      "metadata": {
        "id": "view-in-github",
        "colab_type": "text"
      },
      "source": [
        "<a href=\"https://colab.research.google.com/github/barbaractong/motor-imagery/blob/main/classificador.ipynb\" target=\"_parent\"><img src=\"https://colab.research.google.com/assets/colab-badge.svg\" alt=\"Open In Colab\"/></a>"
      ]
    },
    {
      "cell_type": "code",
      "execution_count": 1,
      "metadata": {
        "colab": {
          "base_uri": "https://localhost:8080/"
        },
        "id": "pyUas_fhKrPv",
        "outputId": "5cdba355-ac7c-4410-ff8d-cb6a9163c823"
      },
      "outputs": [
        {
          "output_type": "stream",
          "name": "stdout",
          "text": [
            "Collecting mne\n",
            "  Downloading mne-1.4.2-py3-none-any.whl (7.7 MB)\n",
            "\u001b[2K     \u001b[90m━━━━━━━━━━━━━━━━━━━━━━━━━━━━━━━━━━━━━━━━\u001b[0m \u001b[32m7.7/7.7 MB\u001b[0m \u001b[31m10.9 MB/s\u001b[0m eta \u001b[36m0:00:00\u001b[0m\n",
            "\u001b[?25hRequirement already satisfied: numpy>=1.15.4 in /usr/local/lib/python3.10/dist-packages (from mne) (1.22.4)\n",
            "Requirement already satisfied: scipy>=1.6.3 in /usr/local/lib/python3.10/dist-packages (from mne) (1.10.1)\n",
            "Requirement already satisfied: matplotlib>=3.4.0 in /usr/local/lib/python3.10/dist-packages (from mne) (3.7.1)\n",
            "Requirement already satisfied: tqdm in /usr/local/lib/python3.10/dist-packages (from mne) (4.65.0)\n",
            "Requirement already satisfied: pooch>=1.5 in /usr/local/lib/python3.10/dist-packages (from mne) (1.6.0)\n",
            "Requirement already satisfied: decorator in /usr/local/lib/python3.10/dist-packages (from mne) (4.4.2)\n",
            "Requirement already satisfied: packaging in /usr/local/lib/python3.10/dist-packages (from mne) (23.1)\n",
            "Requirement already satisfied: jinja2 in /usr/local/lib/python3.10/dist-packages (from mne) (3.1.2)\n",
            "Requirement already satisfied: contourpy>=1.0.1 in /usr/local/lib/python3.10/dist-packages (from matplotlib>=3.4.0->mne) (1.1.0)\n",
            "Requirement already satisfied: cycler>=0.10 in /usr/local/lib/python3.10/dist-packages (from matplotlib>=3.4.0->mne) (0.11.0)\n",
            "Requirement already satisfied: fonttools>=4.22.0 in /usr/local/lib/python3.10/dist-packages (from matplotlib>=3.4.0->mne) (4.41.1)\n",
            "Requirement already satisfied: kiwisolver>=1.0.1 in /usr/local/lib/python3.10/dist-packages (from matplotlib>=3.4.0->mne) (1.4.4)\n",
            "Requirement already satisfied: pillow>=6.2.0 in /usr/local/lib/python3.10/dist-packages (from matplotlib>=3.4.0->mne) (9.4.0)\n",
            "Requirement already satisfied: pyparsing>=2.3.1 in /usr/local/lib/python3.10/dist-packages (from matplotlib>=3.4.0->mne) (3.1.0)\n",
            "Requirement already satisfied: python-dateutil>=2.7 in /usr/local/lib/python3.10/dist-packages (from matplotlib>=3.4.0->mne) (2.8.2)\n",
            "Requirement already satisfied: appdirs>=1.3.0 in /usr/local/lib/python3.10/dist-packages (from pooch>=1.5->mne) (1.4.4)\n",
            "Requirement already satisfied: requests>=2.19.0 in /usr/local/lib/python3.10/dist-packages (from pooch>=1.5->mne) (2.27.1)\n",
            "Requirement already satisfied: MarkupSafe>=2.0 in /usr/local/lib/python3.10/dist-packages (from jinja2->mne) (2.1.3)\n",
            "Requirement already satisfied: six>=1.5 in /usr/local/lib/python3.10/dist-packages (from python-dateutil>=2.7->matplotlib>=3.4.0->mne) (1.16.0)\n",
            "Requirement already satisfied: urllib3<1.27,>=1.21.1 in /usr/local/lib/python3.10/dist-packages (from requests>=2.19.0->pooch>=1.5->mne) (1.26.16)\n",
            "Requirement already satisfied: certifi>=2017.4.17 in /usr/local/lib/python3.10/dist-packages (from requests>=2.19.0->pooch>=1.5->mne) (2023.7.22)\n",
            "Requirement already satisfied: charset-normalizer~=2.0.0 in /usr/local/lib/python3.10/dist-packages (from requests>=2.19.0->pooch>=1.5->mne) (2.0.12)\n",
            "Requirement already satisfied: idna<4,>=2.5 in /usr/local/lib/python3.10/dist-packages (from requests>=2.19.0->pooch>=1.5->mne) (3.4)\n",
            "Installing collected packages: mne\n",
            "Successfully installed mne-1.4.2\n"
          ]
        }
      ],
      "source": [
        "!pip install mne"
      ]
    },
    {
      "cell_type": "code",
      "source": [
        "import gdown\n",
        "import glob\n",
        "import math\n",
        "import mne\n",
        "import matplotlib.pyplot as plt\n",
        "import numpy as np\n",
        "import pandas as pd\n",
        "import scipy.signal as signal\n",
        "\n",
        "from numpy.fft import fft\n",
        "from scipy.io import loadmat\n",
        "from sklearn.model_selection import KFold"
      ],
      "metadata": {
        "id": "yJDgSemTKr_R"
      },
      "execution_count": 2,
      "outputs": []
    },
    {
      "cell_type": "code",
      "source": [
        "# download data from repository to colab - .mat files (1000Hz samples)\n",
        "!gdown --folder https://drive.google.com/drive/folders/1mMD7zs-H86a7taNh72k4qblaVAbMycm3"
      ],
      "metadata": {
        "colab": {
          "base_uri": "https://localhost:8080/"
        },
        "id": "V3q7E22_K0A4",
        "outputId": "738a8b83-bc3d-422e-bda5-922bf5a5af40"
      },
      "execution_count": 3,
      "outputs": [
        {
          "output_type": "stream",
          "name": "stdout",
          "text": [
            "Retrieving folder list\n",
            "Processing file 1srzjwbJyJrIEESYwvbgiDBltFggs7KLr BCICIV_calib_ds1a_1000Hz.mat\n",
            "Processing file 1PPxsVuseZPBIGdDGKdGOqBh2QCBytHid BCICIV_calib_ds1b_1000Hz.mat\n",
            "Processing file 1t33ezNoxsR9iTk_1JBSjpsfI4UKznTw9 BCICIV_calib_ds1c_1000Hz.mat\n",
            "Processing file 1-MBgaMhi3p2oLtg-Qi48RQum5_yu0N78 BCICIV_calib_ds1d_1000Hz.mat\n",
            "Processing file 1gA1DHlOOi_0Tg8c9XxnLUvBajrRy9jow BCICIV_calib_ds1e_1000Hz.mat\n",
            "Processing file 1B86Jdt_Z1fLf66s70i-FIG4X5Zt8GvKm BCICIV_calib_ds1f_1000Hz.mat\n",
            "Processing file 1ccseyvUZ9hdjXYShLf8I_3S-ROOCUVGF BCICIV_calib_ds1g_1000Hz.mat\n",
            "Retrieving folder list completed\n",
            "Building directory structure\n",
            "Building directory structure completed\n",
            "Downloading...\n",
            "From: https://drive.google.com/uc?id=1srzjwbJyJrIEESYwvbgiDBltFggs7KLr\n",
            "To: /content/BCICIV_1calib_1000Hz_mat/BCICIV_calib_ds1a_1000Hz.mat\n",
            "100% 225M/225M [00:01<00:00, 199MB/s]\n",
            "Downloading...\n",
            "From: https://drive.google.com/uc?id=1PPxsVuseZPBIGdDGKdGOqBh2QCBytHid\n",
            "To: /content/BCICIV_1calib_1000Hz_mat/BCICIV_calib_ds1b_1000Hz.mat\n",
            "100% 225M/225M [00:00<00:00, 249MB/s]\n",
            "Downloading...\n",
            "From: https://drive.google.com/uc?id=1t33ezNoxsR9iTk_1JBSjpsfI4UKznTw9\n",
            "To: /content/BCICIV_1calib_1000Hz_mat/BCICIV_calib_ds1c_1000Hz.mat\n",
            "100% 225M/225M [00:01<00:00, 225MB/s]\n",
            "Downloading...\n",
            "From: https://drive.google.com/uc?id=1-MBgaMhi3p2oLtg-Qi48RQum5_yu0N78\n",
            "To: /content/BCICIV_1calib_1000Hz_mat/BCICIV_calib_ds1d_1000Hz.mat\n",
            "100% 225M/225M [00:01<00:00, 220MB/s]\n",
            "Downloading...\n",
            "From: https://drive.google.com/uc?id=1gA1DHlOOi_0Tg8c9XxnLUvBajrRy9jow\n",
            "To: /content/BCICIV_1calib_1000Hz_mat/BCICIV_calib_ds1e_1000Hz.mat\n",
            "100% 225M/225M [00:01<00:00, 124MB/s]\n",
            "Downloading...\n",
            "From: https://drive.google.com/uc?id=1B86Jdt_Z1fLf66s70i-FIG4X5Zt8GvKm\n",
            "To: /content/BCICIV_1calib_1000Hz_mat/BCICIV_calib_ds1f_1000Hz.mat\n",
            "100% 225M/225M [00:01<00:00, 189MB/s]\n",
            "Downloading...\n",
            "From: https://drive.google.com/uc?id=1ccseyvUZ9hdjXYShLf8I_3S-ROOCUVGF\n",
            "To: /content/BCICIV_1calib_1000Hz_mat/BCICIV_calib_ds1g_1000Hz.mat\n",
            "100% 225M/225M [00:00<00:00, 228MB/s]\n",
            "Download completed\n"
          ]
        }
      ]
    },
    {
      "cell_type": "markdown",
      "source": [
        "### Dataset information\n",
        "\n",
        "**Calibration data**:\n",
        "\n",
        "In the **first two runs**, arrows pointing left, right, or down were presented as visual cues on a computer screen. **Cues were displayed for a period of 4s during which the subject was instructed to perform the cued motor imagery task.** These periods were interleaved with 2s of blank screen and 2s with a fixation cross shown in the center of the screen. The fixation cross was superimposed on the cues, i.e. it was shown for 6s. These data sets are provided with complete marker information.\n",
        "\n",
        "**Dict description:**\n",
        "\n",
        "Data are provided in Matlab format (*.mat) containing variables:\n",
        "\n",
        "- cnt: the continuous EEG signals, size [time x channels]. The array is stored in datatype INT16. To convert it to uV values, use cnt= 0.1*double(cnt); in Matlab.\n",
        "- mrk: structure of target cue information with fields (the file of evaluation data does not contain this variable)\n",
        "  - pos: vector of positions of the cue in the EEG signals given in unit sample, length #cues\n",
        "  - y: vector of target classes (-1 for class one or 1 for class two), length #cues\n",
        "- nfo: structure providing additional information with fields\n",
        "  - fs: sampling rate,\n",
        "  - clab: cell array of channel labels,\n",
        "  - classes: cell array of the names of the motor imagery classes,\n",
        "  - xpos: x-position of electrodes in a 2d-projection,\n",
        "ypos: y-position of electrodes in a 2d-projection."
      ],
      "metadata": {
        "id": "99jRp_HwGmb-"
      }
    },
    {
      "cell_type": "markdown",
      "source": [
        "## Data pre-processing"
      ],
      "metadata": {
        "id": "KO01pU1iG_lc"
      }
    },
    {
      "cell_type": "markdown",
      "source": [
        "Loading the data from google drive. For this project, it will be loaded the 1000Hz data sample."
      ],
      "metadata": {
        "id": "1vdmlYXoHtLU"
      }
    },
    {
      "cell_type": "code",
      "source": [
        "def load_mat_file(fpath):\n",
        "  return loadmat(fpath, struct_as_record = True)\n",
        "\n",
        "path = '/content/BCICIV_1calib_1000Hz_mat'\n",
        "dataFiles = r''+path+'/*.mat'\n",
        "files = glob.glob(dataFiles)\n",
        "files.sort()\n",
        "\n",
        "samples = [load_mat_file(f) for f in files]"
      ],
      "metadata": {
        "id": "yXpcWCkNK9Pg"
      },
      "execution_count": 62,
      "outputs": []
    },
    {
      "cell_type": "markdown",
      "source": [
        "In this step, it will be select only the tranning data that is from cue information to save the X_train matrix and the y_train vector."
      ],
      "metadata": {
        "id": "P52B6pY0H76S"
      }
    },
    {
      "cell_type": "code",
      "source": [
        "X_train = []"
      ],
      "metadata": {
        "id": "iq58KguK-XLt"
      },
      "execution_count": 135,
      "outputs": []
    },
    {
      "cell_type": "code",
      "source": [
        "for sample in range(0, len(samples)):\n",
        "  for position in samples[sample]['mrk']['pos'][0][0][0]:\n",
        "    X_train.append(samples[sample]['cnt'][position]*0.1) # Convert to Volt"
      ],
      "metadata": {
        "id": "VlbPsDp1_JBe"
      },
      "execution_count": 136,
      "outputs": []
    },
    {
      "cell_type": "code",
      "source": [
        "X_train = np.vstack(X_train)"
      ],
      "metadata": {
        "id": "yY66FQ-aD7dC"
      },
      "execution_count": 137,
      "outputs": []
    },
    {
      "cell_type": "code",
      "source": [
        "X_train.shape"
      ],
      "metadata": {
        "colab": {
          "base_uri": "https://localhost:8080/"
        },
        "id": "GkpfFZwt-Fzt",
        "outputId": "7fc4b6c3-174d-494f-b2ad-d84988eb0422"
      },
      "execution_count": 139,
      "outputs": [
        {
          "output_type": "execute_result",
          "data": {
            "text/plain": [
              "(1400, 59)"
            ]
          },
          "metadata": {},
          "execution_count": 139
        }
      ]
    },
    {
      "cell_type": "code",
      "source": [
        "y_train = []"
      ],
      "metadata": {
        "id": "uzGoLfAHFvr0"
      },
      "execution_count": 156,
      "outputs": []
    },
    {
      "cell_type": "code",
      "source": [
        "for sample in range(0, len(samples)):\n",
        "  y_train.append(samples[sample]['mrk']['y'][0][0][0])"
      ],
      "metadata": {
        "id": "a6N17OW2EzPt"
      },
      "execution_count": 157,
      "outputs": []
    },
    {
      "cell_type": "code",
      "source": [
        "y_train = np.hstack(y_train)"
      ],
      "metadata": {
        "id": "7h9QR3LTFf6A"
      },
      "execution_count": 159,
      "outputs": []
    },
    {
      "cell_type": "code",
      "source": [
        "y_train.shape"
      ],
      "metadata": {
        "colab": {
          "base_uri": "https://localhost:8080/"
        },
        "id": "xBpMmfaTF7GA",
        "outputId": "0d9e27fa-0f0b-471f-e30a-e9d3a3db9b63"
      },
      "execution_count": 160,
      "outputs": [
        {
          "output_type": "execute_result",
          "data": {
            "text/plain": [
              "(1400,)"
            ]
          },
          "metadata": {},
          "execution_count": 160
        }
      ]
    },
    {
      "cell_type": "markdown",
      "source": [
        "- Loading data parameters"
      ],
      "metadata": {
        "id": "E13cl24zIOBw"
      }
    },
    {
      "cell_type": "code",
      "source": [
        "# Checking if there is any data with a different sample rate\n",
        "for s in samples:\n",
        "  print(s['nfo']['fs'])"
      ],
      "metadata": {
        "colab": {
          "base_uri": "https://localhost:8080/"
        },
        "id": "Lt8FbjD1F85Q",
        "outputId": "898688e6-4fc5-4cfa-9bd8-c86119b0d8e7"
      },
      "execution_count": 167,
      "outputs": [
        {
          "output_type": "stream",
          "name": "stdout",
          "text": [
            "[[array([[1000]], dtype=uint16)]]\n",
            "[[array([[1000]], dtype=uint16)]]\n",
            "[[array([[1000]], dtype=uint16)]]\n",
            "[[array([[1000]], dtype=uint16)]]\n",
            "[[array([[1000]], dtype=uint16)]]\n",
            "[[array([[1000]], dtype=uint16)]]\n",
            "[[array([[1000]], dtype=uint16)]]\n"
          ]
        }
      ]
    },
    {
      "cell_type": "code",
      "source": [
        "sample_rate = samples[0]['nfo']['fs'][0][0][0][0] # Hz"
      ],
      "metadata": {
        "id": "8AHdSYzrJHaT"
      },
      "execution_count": 181,
      "outputs": []
    },
    {
      "cell_type": "code",
      "source": [
        "print(f\"Sample rate: {sample_rate} Hz\")"
      ],
      "metadata": {
        "colab": {
          "base_uri": "https://localhost:8080/"
        },
        "id": "gDfqU_FKJMLC",
        "outputId": "2b194db7-0266-4501-bd9c-f30ebc2ef24a"
      },
      "execution_count": 183,
      "outputs": [
        {
          "output_type": "stream",
          "name": "stdout",
          "text": [
            "Sample rate: 1000 Hz\n"
          ]
        }
      ]
    },
    {
      "cell_type": "code",
      "source": [
        "# Extract given param - Channel names\n",
        "channel_id = [cid[0] for cid in samples[0]['nfo']['clab'][0][0][0]]"
      ],
      "metadata": {
        "id": "XTmeRfgxIT9V"
      },
      "execution_count": 174,
      "outputs": []
    },
    {
      "cell_type": "code",
      "source": [
        "# Check the classes for all volunteers\n",
        "classes_per_run = []\n",
        "for s in samples:\n",
        "  classes_per_run.append(s['nfo']['classes'][0][0][0])\n",
        "\n",
        "print(classes_per_run)"
      ],
      "metadata": {
        "colab": {
          "base_uri": "https://localhost:8080/"
        },
        "id": "rvy400YsImO1",
        "outputId": "cf97ad53-826d-4057-9ff0-b9b0fc83b185"
      },
      "execution_count": 190,
      "outputs": [
        {
          "output_type": "stream",
          "name": "stdout",
          "text": [
            "[array([array(['left'], dtype='<U4'), array(['foot'], dtype='<U4')],\n",
            "      dtype=object), array([array(['left'], dtype='<U4'), array(['right'], dtype='<U5')],\n",
            "      dtype=object), array([array(['left'], dtype='<U4'), array(['right'], dtype='<U5')],\n",
            "      dtype=object), array([array(['left'], dtype='<U4'), array(['right'], dtype='<U5')],\n",
            "      dtype=object), array([array(['left'], dtype='<U4'), array(['right'], dtype='<U5')],\n",
            "      dtype=object), array([array(['left'], dtype='<U4'), array(['foot'], dtype='<U4')],\n",
            "      dtype=object), array([array(['left'], dtype='<U4'), array(['right'], dtype='<U5')],\n",
            "      dtype=object)]\n"
          ]
        }
      ]
    },
    {
      "cell_type": "markdown",
      "source": [
        "- Set the parameters"
      ],
      "metadata": {
        "id": "pbuDlNrEKprM"
      }
    },
    {
      "cell_type": "code",
      "source": [
        "# Checking for the number of total samples\n",
        "for s in samples:\n",
        "  print(s['cnt'].shape)"
      ],
      "metadata": {
        "colab": {
          "base_uri": "https://localhost:8080/"
        },
        "id": "BFDK7em6Jher",
        "outputId": "0ec7e31c-f3e7-4a07-a54c-c4550c30a821"
      },
      "execution_count": 192,
      "outputs": [
        {
          "output_type": "stream",
          "name": "stdout",
          "text": [
            "(1905940, 59)\n",
            "(1905940, 59)\n",
            "(1905499, 59)\n",
            "(1904735, 59)\n",
            "(1903295, 59)\n",
            "(1906080, 59)\n",
            "(1906020, 59)\n"
          ]
        }
      ]
    },
    {
      "cell_type": "markdown",
      "source": [
        "## Run \\#1 - Only 'C3', 'C4', 'Cz' channels"
      ],
      "metadata": {
        "id": "z5_UhPK4MCVm"
      }
    },
    {
      "cell_type": "markdown",
      "source": [
        "- Select only the channels that will be used to check motor stimulus"
      ],
      "metadata": {
        "id": "RjFg3bRCLJT3"
      }
    },
    {
      "cell_type": "code",
      "source": [
        "channels_for_model = []\n",
        "labels = []\n",
        "selected_channels = ['C3', 'C4', 'Cz']\n",
        "for idx, c in enumerate(channel_id):\n",
        "  if c in selected_channels:\n",
        "    labels.append(c)\n",
        "    channels_for_model.append(idx)\n",
        "\n",
        "print(channels_for_model)\n",
        "print(labels)"
      ],
      "metadata": {
        "colab": {
          "base_uri": "https://localhost:8080/"
        },
        "id": "qlPg_EIKLNrR",
        "outputId": "b9d115fe-6b3e-4a7f-e80d-40acb094f44e"
      },
      "execution_count": 199,
      "outputs": [
        {
          "output_type": "stream",
          "name": "stdout",
          "text": [
            "[26, 28, 30]\n",
            "['C3', 'Cz', 'C4']\n"
          ]
        }
      ]
    },
    {
      "cell_type": "markdown",
      "source": [
        "- Get the data from X_train matrix"
      ],
      "metadata": {
        "id": "guJZNAzhMMJO"
      }
    },
    {
      "cell_type": "code",
      "source": [
        "X_train_run_one = X_train[:, channels_for_model]"
      ],
      "metadata": {
        "id": "efpVywvPLRMC"
      },
      "execution_count": 201,
      "outputs": []
    },
    {
      "cell_type": "code",
      "source": [
        "X_train_run_one.shape"
      ],
      "metadata": {
        "colab": {
          "base_uri": "https://localhost:8080/"
        },
        "id": "mMkn3sAsM5_K",
        "outputId": "f408fc88-393d-4fef-fe96-4443ff777403"
      },
      "execution_count": 202,
      "outputs": [
        {
          "output_type": "execute_result",
          "data": {
            "text/plain": [
              "(1400, 3)"
            ]
          },
          "metadata": {},
          "execution_count": 202
        }
      ]
    },
    {
      "cell_type": "code",
      "source": [],
      "metadata": {
        "id": "U--OLsNcNhAK"
      },
      "execution_count": null,
      "outputs": []
    }
  ]
}