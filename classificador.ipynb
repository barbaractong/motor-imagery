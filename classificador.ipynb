{
  "nbformat": 4,
  "nbformat_minor": 0,
  "metadata": {
    "colab": {
      "provenance": [],
      "include_colab_link": true
    },
    "kernelspec": {
      "name": "python3",
      "display_name": "Python 3"
    },
    "language_info": {
      "name": "python"
    }
  },
  "cells": [
    {
      "cell_type": "markdown",
      "metadata": {
        "id": "view-in-github",
        "colab_type": "text"
      },
      "source": [
        "<a href=\"https://colab.research.google.com/github/barbaractong/motor-imagery/blob/main/classificador.ipynb\" target=\"_parent\"><img src=\"https://colab.research.google.com/assets/colab-badge.svg\" alt=\"Open In Colab\"/></a>"
      ]
    },
    {
      "cell_type": "code",
      "execution_count": 1,
      "metadata": {
        "colab": {
          "base_uri": "https://localhost:8080/"
        },
        "id": "pyUas_fhKrPv",
        "outputId": "d1601393-352c-41d2-d8ba-a9092547d2d6"
      },
      "outputs": [
        {
          "output_type": "stream",
          "name": "stdout",
          "text": [
            "Collecting mne\n",
            "  Downloading mne-1.4.2-py3-none-any.whl (7.7 MB)\n",
            "\u001b[2K     \u001b[90m━━━━━━━━━━━━━━━━━━━━━━━━━━━━━━━━━━━━━━━━\u001b[0m \u001b[32m7.7/7.7 MB\u001b[0m \u001b[31m21.6 MB/s\u001b[0m eta \u001b[36m0:00:00\u001b[0m\n",
            "\u001b[?25hRequirement already satisfied: numpy>=1.15.4 in /usr/local/lib/python3.10/dist-packages (from mne) (1.22.4)\n",
            "Requirement already satisfied: scipy>=1.6.3 in /usr/local/lib/python3.10/dist-packages (from mne) (1.10.1)\n",
            "Requirement already satisfied: matplotlib>=3.4.0 in /usr/local/lib/python3.10/dist-packages (from mne) (3.7.1)\n",
            "Requirement already satisfied: tqdm in /usr/local/lib/python3.10/dist-packages (from mne) (4.65.0)\n",
            "Requirement already satisfied: pooch>=1.5 in /usr/local/lib/python3.10/dist-packages (from mne) (1.6.0)\n",
            "Requirement already satisfied: decorator in /usr/local/lib/python3.10/dist-packages (from mne) (4.4.2)\n",
            "Requirement already satisfied: packaging in /usr/local/lib/python3.10/dist-packages (from mne) (23.1)\n",
            "Requirement already satisfied: jinja2 in /usr/local/lib/python3.10/dist-packages (from mne) (3.1.2)\n",
            "Requirement already satisfied: contourpy>=1.0.1 in /usr/local/lib/python3.10/dist-packages (from matplotlib>=3.4.0->mne) (1.1.0)\n",
            "Requirement already satisfied: cycler>=0.10 in /usr/local/lib/python3.10/dist-packages (from matplotlib>=3.4.0->mne) (0.11.0)\n",
            "Requirement already satisfied: fonttools>=4.22.0 in /usr/local/lib/python3.10/dist-packages (from matplotlib>=3.4.0->mne) (4.41.1)\n",
            "Requirement already satisfied: kiwisolver>=1.0.1 in /usr/local/lib/python3.10/dist-packages (from matplotlib>=3.4.0->mne) (1.4.4)\n",
            "Requirement already satisfied: pillow>=6.2.0 in /usr/local/lib/python3.10/dist-packages (from matplotlib>=3.4.0->mne) (9.4.0)\n",
            "Requirement already satisfied: pyparsing>=2.3.1 in /usr/local/lib/python3.10/dist-packages (from matplotlib>=3.4.0->mne) (3.1.0)\n",
            "Requirement already satisfied: python-dateutil>=2.7 in /usr/local/lib/python3.10/dist-packages (from matplotlib>=3.4.0->mne) (2.8.2)\n",
            "Requirement already satisfied: appdirs>=1.3.0 in /usr/local/lib/python3.10/dist-packages (from pooch>=1.5->mne) (1.4.4)\n",
            "Requirement already satisfied: requests>=2.19.0 in /usr/local/lib/python3.10/dist-packages (from pooch>=1.5->mne) (2.27.1)\n",
            "Requirement already satisfied: MarkupSafe>=2.0 in /usr/local/lib/python3.10/dist-packages (from jinja2->mne) (2.1.3)\n",
            "Requirement already satisfied: six>=1.5 in /usr/local/lib/python3.10/dist-packages (from python-dateutil>=2.7->matplotlib>=3.4.0->mne) (1.16.0)\n",
            "Requirement already satisfied: urllib3<1.27,>=1.21.1 in /usr/local/lib/python3.10/dist-packages (from requests>=2.19.0->pooch>=1.5->mne) (1.26.16)\n",
            "Requirement already satisfied: certifi>=2017.4.17 in /usr/local/lib/python3.10/dist-packages (from requests>=2.19.0->pooch>=1.5->mne) (2023.7.22)\n",
            "Requirement already satisfied: charset-normalizer~=2.0.0 in /usr/local/lib/python3.10/dist-packages (from requests>=2.19.0->pooch>=1.5->mne) (2.0.12)\n",
            "Requirement already satisfied: idna<4,>=2.5 in /usr/local/lib/python3.10/dist-packages (from requests>=2.19.0->pooch>=1.5->mne) (3.4)\n",
            "Installing collected packages: mne\n",
            "Successfully installed mne-1.4.2\n"
          ]
        }
      ],
      "source": [
        "!pip install mne"
      ]
    },
    {
      "cell_type": "code",
      "source": [
        "import gdown\n",
        "import glob\n",
        "import math\n",
        "import mne\n",
        "import matplotlib.pyplot as plt\n",
        "import numpy as np\n",
        "import pandas as pd\n",
        "import scipy.signal as signal\n",
        "\n",
        "from numpy.fft import fft\n",
        "from scipy.io import loadmat\n",
        "\n",
        "from sklearn.model_selection import cross_val_score # Cross Validation Function.\n",
        "from sklearn.model_selection import KFold # KFold Class."
      ],
      "metadata": {
        "id": "yJDgSemTKr_R"
      },
      "execution_count": 3,
      "outputs": []
    },
    {
      "cell_type": "code",
      "source": [
        "# download data from repository to colab - .mat files (1000Hz samples)\n",
        "!gdown --folder https://drive.google.com/drive/u/2/folders/1bQEWkMRg-ag8rxFpquOjG5qr_fS963Fv"
      ],
      "metadata": {
        "colab": {
          "base_uri": "https://localhost:8080/"
        },
        "id": "V3q7E22_K0A4",
        "outputId": "0482a9b8-02d1-46df-be30-7d69aa75f4a1"
      },
      "execution_count": 14,
      "outputs": [
        {
          "output_type": "stream",
          "name": "stdout",
          "text": [
            "Retrieving folder list\n",
            "Processing file 1taU1yDNwVZGnXZkeJIIn9FGyPjGQq5Bp BCICIV_calib_ds1a.mat\n",
            "Processing file 1Wz6qBceL0AB0qQeDvy_ua8XSO2k8Fewi BCICIV_calib_ds1b.mat\n",
            "Processing file 1HO0Y-0iQubkBFmBmTkZmEAdUvsClg6Vk BCICIV_calib_ds1c.mat\n",
            "Processing file 1rRNM7h6GOXXIMU9FWUpyy9p6ExHBTPyf BCICIV_calib_ds1d.mat\n",
            "Processing file 10u6sUJAsX5RapEnByHECZ6CmjGxLqfkr BCICIV_calib_ds1e.mat\n",
            "Processing file 10EKUll5aOnwtBCWTsYYt5n_0omhHIg0O BCICIV_calib_ds1f.mat\n",
            "Processing file 1gyOwuzNHUwG7tRXqZA6qRQlHUgTU0bJb BCICIV_calib_ds1g.mat\n",
            "Retrieving folder list completed\n",
            "Building directory structure\n",
            "Building directory structure completed\n",
            "Downloading...\n",
            "From: https://drive.google.com/uc?id=1taU1yDNwVZGnXZkeJIIn9FGyPjGQq5Bp\n",
            "To: /content/calib/BCICIV_calib_ds1a.mat\n",
            "100% 22.5M/22.5M [00:00<00:00, 108MB/s]\n",
            "Downloading...\n",
            "From: https://drive.google.com/uc?id=1Wz6qBceL0AB0qQeDvy_ua8XSO2k8Fewi\n",
            "To: /content/calib/BCICIV_calib_ds1b.mat\n",
            "100% 22.5M/22.5M [00:00<00:00, 103MB/s]\n",
            "Downloading...\n",
            "From: https://drive.google.com/uc?id=1HO0Y-0iQubkBFmBmTkZmEAdUvsClg6Vk\n",
            "To: /content/calib/BCICIV_calib_ds1c.mat\n",
            "100% 22.5M/22.5M [00:00<00:00, 117MB/s] \n",
            "Downloading...\n",
            "From: https://drive.google.com/uc?id=1rRNM7h6GOXXIMU9FWUpyy9p6ExHBTPyf\n",
            "To: /content/calib/BCICIV_calib_ds1d.mat\n",
            "100% 22.5M/22.5M [00:00<00:00, 139MB/s]\n",
            "Downloading...\n",
            "From: https://drive.google.com/uc?id=10u6sUJAsX5RapEnByHECZ6CmjGxLqfkr\n",
            "To: /content/calib/BCICIV_calib_ds1e.mat\n",
            "100% 22.5M/22.5M [00:00<00:00, 125MB/s] \n",
            "Downloading...\n",
            "From: https://drive.google.com/uc?id=10EKUll5aOnwtBCWTsYYt5n_0omhHIg0O\n",
            "To: /content/calib/BCICIV_calib_ds1f.mat\n",
            "100% 22.5M/22.5M [00:00<00:00, 105MB/s]\n",
            "Downloading...\n",
            "From: https://drive.google.com/uc?id=1gyOwuzNHUwG7tRXqZA6qRQlHUgTU0bJb\n",
            "To: /content/calib/BCICIV_calib_ds1g.mat\n",
            "100% 22.5M/22.5M [00:00<00:00, 141MB/s]\n",
            "Download completed\n"
          ]
        }
      ]
    },
    {
      "cell_type": "markdown",
      "source": [
        "### Dataset information\n",
        "**Link**: https://www.bbci.de/competition/iv/desc_1.html\n",
        "\n",
        "**Calibration data**:\n",
        "\n",
        "In the **first two runs**, arrows pointing left, right, or down were presented as visual cues on a computer screen. **Cues were displayed for a period of 4s during which the subject was instructed to perform the cued motor imagery task.** These periods were interleaved with 2s of blank screen and 2s with a fixation cross shown in the center of the screen. The fixation cross was superimposed on the cues, i.e. it was shown for 6s. These data sets are provided with complete marker information.\n",
        "\n",
        "**Dict description:**\n",
        "\n",
        "Data are provided in Matlab format (*.mat) containing variables:\n",
        "\n",
        "- cnt: the continuous EEG signals, size [time x channels]. The array is stored in datatype INT16. To convert it to uV values, use cnt= 0.1*double(cnt); in Matlab.\n",
        "- mrk: structure of target cue information with fields (the file of evaluation data does not contain this variable)\n",
        "  - pos: vector of positions of the cue in the EEG signals given in unit sample, length #cues\n",
        "  - y: vector of target classes (-1 for class one or 1 for class two), length #cues\n",
        "- nfo: structure providing additional information with fields\n",
        "  - fs: sampling rate,\n",
        "  - clab: cell array of channel labels,\n",
        "  - classes: cell array of the names of the motor imagery classes,\n",
        "  - xpos: x-position of electrodes in a 2d-projection,\n",
        "ypos: y-position of electrodes in a 2d-projection."
      ],
      "metadata": {
        "id": "99jRp_HwGmb-"
      }
    },
    {
      "cell_type": "markdown",
      "source": [
        "## Data pre-processing"
      ],
      "metadata": {
        "id": "KO01pU1iG_lc"
      }
    },
    {
      "cell_type": "markdown",
      "source": [
        "Loading the data from google drive. For this project, it will be loaded the 1000Hz data sample."
      ],
      "metadata": {
        "id": "1vdmlYXoHtLU"
      }
    },
    {
      "cell_type": "code",
      "source": [
        "def load_mat_file(fpath):\n",
        "  return loadmat(fpath, struct_as_record = True)\n",
        "\n",
        "path = '/content/calib'\n",
        "dataFiles = r''+path+'/*.mat'\n",
        "files = glob.glob(dataFiles)\n",
        "files.sort()\n",
        "\n",
        "samples = [load_mat_file(f) for f in files]"
      ],
      "metadata": {
        "id": "yXpcWCkNK9Pg"
      },
      "execution_count": 17,
      "outputs": []
    },
    {
      "cell_type": "code",
      "source": [
        "len(samples)"
      ],
      "metadata": {
        "colab": {
          "base_uri": "https://localhost:8080/"
        },
        "id": "Q8cGUiEX0bDm",
        "outputId": "e1c6040f-be29-4cdd-bd54-f9d5c5bd455f"
      },
      "execution_count": 18,
      "outputs": [
        {
          "output_type": "execute_result",
          "data": {
            "text/plain": [
              "7"
            ]
          },
          "metadata": {},
          "execution_count": 18
        }
      ]
    },
    {
      "cell_type": "markdown",
      "source": [
        "In this step, it will be select only the tranning data that is from cue information to save the X_train matrix and the y_train vector."
      ],
      "metadata": {
        "id": "P52B6pY0H76S"
      }
    },
    {
      "cell_type": "code",
      "source": [
        "X_train = []"
      ],
      "metadata": {
        "id": "iq58KguK-XLt"
      },
      "execution_count": 19,
      "outputs": []
    },
    {
      "cell_type": "code",
      "source": [
        "for sample in range(0, len(samples)):\n",
        "  for position in samples[sample]['mrk']['pos'][0][0][0]:\n",
        "    X_train.append(samples[sample]['cnt'][position]*0.1) # Convert to Volt"
      ],
      "metadata": {
        "id": "VlbPsDp1_JBe"
      },
      "execution_count": 20,
      "outputs": []
    },
    {
      "cell_type": "code",
      "source": [
        "X_train = np.vstack(X_train)"
      ],
      "metadata": {
        "id": "yY66FQ-aD7dC"
      },
      "execution_count": 21,
      "outputs": []
    },
    {
      "cell_type": "code",
      "source": [
        "X_train.shape"
      ],
      "metadata": {
        "colab": {
          "base_uri": "https://localhost:8080/"
        },
        "id": "GkpfFZwt-Fzt",
        "outputId": "b2ffcc8c-ad52-4f99-dd36-2d66913d2ddd"
      },
      "execution_count": 22,
      "outputs": [
        {
          "output_type": "execute_result",
          "data": {
            "text/plain": [
              "(1400, 59)"
            ]
          },
          "metadata": {},
          "execution_count": 22
        }
      ]
    },
    {
      "cell_type": "code",
      "source": [
        "y_train = []"
      ],
      "metadata": {
        "id": "uzGoLfAHFvr0"
      },
      "execution_count": 23,
      "outputs": []
    },
    {
      "cell_type": "code",
      "source": [
        "for sample in range(0, len(samples)):\n",
        "  y_train.append(samples[sample]['mrk']['y'][0][0][0])"
      ],
      "metadata": {
        "id": "a6N17OW2EzPt"
      },
      "execution_count": 24,
      "outputs": []
    },
    {
      "cell_type": "code",
      "source": [
        "y_train = np.hstack(y_train)"
      ],
      "metadata": {
        "id": "7h9QR3LTFf6A"
      },
      "execution_count": 25,
      "outputs": []
    },
    {
      "cell_type": "code",
      "source": [
        "tranning_matrix = np.hstack((X_train,  y_train.reshape(-1, 1)))"
      ],
      "metadata": {
        "id": "zSvoGbysBAzB"
      },
      "execution_count": 26,
      "outputs": []
    },
    {
      "cell_type": "markdown",
      "source": [
        "- Reshape the matrix to separate into trials"
      ],
      "metadata": {
        "id": "RmKbPU9dBEYy"
      }
    },
    {
      "cell_type": "code",
      "source": [
        "X_train_by_trial = np.reshape(X_train, (200, 59, 7))"
      ],
      "metadata": {
        "id": "y1l0RxZDBD-S"
      },
      "execution_count": 27,
      "outputs": []
    },
    {
      "cell_type": "code",
      "source": [
        "X_train_by_trial.shape"
      ],
      "metadata": {
        "colab": {
          "base_uri": "https://localhost:8080/"
        },
        "id": "EBdRehOkBKh-",
        "outputId": "0aa476cb-7e05-426a-e0ce-6997d3e449ee"
      },
      "execution_count": 28,
      "outputs": [
        {
          "output_type": "execute_result",
          "data": {
            "text/plain": [
              "(200, 59, 7)"
            ]
          },
          "metadata": {},
          "execution_count": 28
        }
      ]
    },
    {
      "cell_type": "code",
      "source": [
        "y_train_by_trial = np.reshape(y_train, (200, 7))"
      ],
      "metadata": {
        "id": "vI32YHiJAsYQ"
      },
      "execution_count": 29,
      "outputs": []
    },
    {
      "cell_type": "code",
      "source": [
        "y_train_by_trial.shape"
      ],
      "metadata": {
        "colab": {
          "base_uri": "https://localhost:8080/"
        },
        "id": "xBpMmfaTF7GA",
        "outputId": "2d691540-2a12-4697-a0ec-1ee1816a8978"
      },
      "execution_count": 30,
      "outputs": [
        {
          "output_type": "execute_result",
          "data": {
            "text/plain": [
              "(200, 7)"
            ]
          },
          "metadata": {},
          "execution_count": 30
        }
      ]
    },
    {
      "cell_type": "markdown",
      "source": [
        "- Time window for the data"
      ],
      "metadata": {
        "id": "ZYNNGKp99P6R"
      }
    },
    {
      "cell_type": "code",
      "source": [
        "def segmenting(data, seg_length, sample_rate):\n",
        "  N_samples = data.shape[0]\n",
        "  N_dims = len(data.shape)\n",
        "  N_seg = seg_length*sample_rate\n",
        "  start_seg = np.rint(np.arange(0, N_samples - N_seg + 1, N_seg)).astype(int)\n",
        "  end_seg = (start_seg + np.rint(N_seg)).astype(int)\n",
        "\n",
        "  for i in range(len(start_seg)):\n",
        "\n",
        "    cut_data = data[start_seg[i]:end_seg[i],]\n",
        "    expand_data = np.expand_dims(cut_data, N_dims)\n",
        "\n",
        "    if i == 0:\n",
        "      seg_data = expand_data\n",
        "    else:\n",
        "      seg_data = np.concatenate((seg_data, expand_data), N_dims)\n",
        "\n",
        "  return seg_data"
      ],
      "metadata": {
        "id": "IdrQUYaY-Iq3"
      },
      "execution_count": 31,
      "outputs": []
    },
    {
      "cell_type": "code",
      "source": [
        "def segmenting_3d(data, seg_length, sample_rate):\n",
        "\n",
        "  N_samples, N_channels, N_trials = data.shape\n",
        "  N_class = 2\n",
        "  N_dims = len(data.shape)\n",
        "  N_seg = seg_length*sample_rate\n",
        "  start_seg = np.rint(\n",
        "      np.arange(0, N_samples*N_trials - N_seg + 1, N_seg)).astype(int)\n",
        "  end_seg = (start_seg + np.rint(N_seg)).astype(int)\n",
        "\n",
        "  for i in range(N_trials):\n",
        "\n",
        "    if i == 0:\n",
        "\n",
        "      cat_trials = data[:, :, i]\n",
        "\n",
        "    else:\n",
        "\n",
        "      cat_trials = np.concatenate((cat_trials, data[:, :, i]), axis=0)\n",
        "\n",
        "  for i in range(len(start_seg)):\n",
        "\n",
        "    cut_data = cat_trials[start_seg[i]:end_seg[i],]\n",
        "    expand_data = np.expand_dims(cut_data, N_dims-1)\n",
        "\n",
        "    if i == 0:\n",
        "\n",
        "      seg_data = expand_data\n",
        "\n",
        "    else:\n",
        "\n",
        "      seg_data = np.concatenate((seg_data, expand_data), N_dims-1)\n",
        "\n",
        "  return seg_data"
      ],
      "metadata": {
        "id": "z7qLo7XRaHZZ"
      },
      "execution_count": 32,
      "outputs": []
    },
    {
      "cell_type": "markdown",
      "source": [
        "- Testing the segmentation function"
      ],
      "metadata": {
        "id": "uULLg_VgSBLl"
      }
    },
    {
      "cell_type": "code",
      "source": [
        "X_train_windowed = segmenting(X_train_by_trial, 0.01, 1000)"
      ],
      "metadata": {
        "id": "M-cBRrPePpWb"
      },
      "execution_count": 33,
      "outputs": []
    },
    {
      "cell_type": "code",
      "source": [
        "X_train_windowed.shape"
      ],
      "metadata": {
        "colab": {
          "base_uri": "https://localhost:8080/"
        },
        "id": "YNyCMNZYQG7G",
        "outputId": "15205182-87e8-401d-b5c5-887750c773d6"
      },
      "execution_count": 34,
      "outputs": [
        {
          "output_type": "execute_result",
          "data": {
            "text/plain": [
              "(10, 59, 7, 20)"
            ]
          },
          "metadata": {},
          "execution_count": 34
        }
      ]
    },
    {
      "cell_type": "markdown",
      "source": [
        "- Loading data parameters"
      ],
      "metadata": {
        "id": "E13cl24zIOBw"
      }
    },
    {
      "cell_type": "code",
      "source": [
        "# Checking if there is any data with a different sample rate\n",
        "for s in samples:\n",
        "  print(s['nfo']['fs'])"
      ],
      "metadata": {
        "colab": {
          "base_uri": "https://localhost:8080/"
        },
        "id": "Lt8FbjD1F85Q",
        "outputId": "34329ad4-63be-4257-8d72-97ad0289974e"
      },
      "execution_count": 35,
      "outputs": [
        {
          "output_type": "stream",
          "name": "stdout",
          "text": [
            "[[array([[100]], dtype=uint8)]]\n",
            "[[array([[100]], dtype=uint8)]]\n",
            "[[array([[100]], dtype=uint8)]]\n",
            "[[array([[100]], dtype=uint8)]]\n",
            "[[array([[100]], dtype=uint8)]]\n",
            "[[array([[100]], dtype=uint8)]]\n",
            "[[array([[100]], dtype=uint8)]]\n"
          ]
        }
      ]
    },
    {
      "cell_type": "code",
      "source": [
        "sample_rate = samples[0]['nfo']['fs'][0][0][0][0] # Hz"
      ],
      "metadata": {
        "id": "8AHdSYzrJHaT"
      },
      "execution_count": 36,
      "outputs": []
    },
    {
      "cell_type": "code",
      "source": [
        "print(f\"Sample rate: {sample_rate} Hz\")"
      ],
      "metadata": {
        "colab": {
          "base_uri": "https://localhost:8080/"
        },
        "id": "gDfqU_FKJMLC",
        "outputId": "d3018cb9-197d-4e9a-a204-c9f0d7ffefb9"
      },
      "execution_count": 37,
      "outputs": [
        {
          "output_type": "stream",
          "name": "stdout",
          "text": [
            "Sample rate: 100 Hz\n"
          ]
        }
      ]
    },
    {
      "cell_type": "markdown",
      "source": [
        "- Extracting given params"
      ],
      "metadata": {
        "id": "nRBao9g4BiD0"
      }
    },
    {
      "cell_type": "code",
      "source": [
        "# Extract given param - Channel names\n",
        "channel_id = [cid[0] for cid in samples[0]['nfo']['clab'][0][0][0]]"
      ],
      "metadata": {
        "id": "XTmeRfgxIT9V"
      },
      "execution_count": 38,
      "outputs": []
    },
    {
      "cell_type": "code",
      "source": [
        "# Check the classes for all volunteers\n",
        "classes_per_run = []\n",
        "for s in samples:\n",
        "  classes_per_run.append(s['nfo']['classes'][0][0][0])\n",
        "\n",
        "print(classes_per_run)"
      ],
      "metadata": {
        "colab": {
          "base_uri": "https://localhost:8080/"
        },
        "id": "rvy400YsImO1",
        "outputId": "8e4337d4-7867-459f-dbcb-456d9d17e53a"
      },
      "execution_count": 39,
      "outputs": [
        {
          "output_type": "stream",
          "name": "stdout",
          "text": [
            "[array([array(['left'], dtype='<U4'), array(['foot'], dtype='<U4')],\n",
            "      dtype=object), array([array(['left'], dtype='<U4'), array(['right'], dtype='<U5')],\n",
            "      dtype=object), array([array(['left'], dtype='<U4'), array(['right'], dtype='<U5')],\n",
            "      dtype=object), array([array(['left'], dtype='<U4'), array(['right'], dtype='<U5')],\n",
            "      dtype=object), array([array(['left'], dtype='<U4'), array(['right'], dtype='<U5')],\n",
            "      dtype=object), array([array(['left'], dtype='<U4'), array(['foot'], dtype='<U4')],\n",
            "      dtype=object), array([array(['left'], dtype='<U4'), array(['right'], dtype='<U5')],\n",
            "      dtype=object)]\n"
          ]
        }
      ]
    },
    {
      "cell_type": "markdown",
      "source": [
        "- Set the parameters"
      ],
      "metadata": {
        "id": "pbuDlNrEKprM"
      }
    },
    {
      "cell_type": "code",
      "source": [
        "# Checking for the number of total samples\n",
        "for s in samples:\n",
        "  print(s['cnt'].shape)"
      ],
      "metadata": {
        "colab": {
          "base_uri": "https://localhost:8080/"
        },
        "id": "BFDK7em6Jher",
        "outputId": "c7a0bb5f-fd3e-4700-93b7-8c9d185f2999"
      },
      "execution_count": 40,
      "outputs": [
        {
          "output_type": "stream",
          "name": "stdout",
          "text": [
            "(190594, 59)\n",
            "(190594, 59)\n",
            "(190549, 59)\n",
            "(190473, 59)\n",
            "(190329, 59)\n",
            "(190608, 59)\n",
            "(190602, 59)\n"
          ]
        }
      ]
    },
    {
      "cell_type": "markdown",
      "source": [
        "## Run \\#1 - 'T7', 'C5', 'C3', 'C1', 'CZ', 'C2', 'C4', 'C8', 'T8' channels"
      ],
      "metadata": {
        "id": "z5_UhPK4MCVm"
      }
    },
    {
      "cell_type": "markdown",
      "source": [
        "- Select only the channels that will be used to check motor stimulus"
      ],
      "metadata": {
        "id": "RjFg3bRCLJT3"
      }
    },
    {
      "cell_type": "code",
      "source": [
        "channels_for_model = []\n",
        "labels = []\n",
        "selected_channels = ['T7', 'C5', 'C3', 'C1', 'CZ', 'C2', 'C4', 'C8', 'T8']\n",
        "for idx, c in enumerate(channel_id):\n",
        "  if c in selected_channels:\n",
        "    labels.append(c)\n",
        "    channels_for_model.append(idx)\n",
        "\n",
        "print(channels_for_model)\n",
        "print(labels)"
      ],
      "metadata": {
        "colab": {
          "base_uri": "https://localhost:8080/"
        },
        "id": "qlPg_EIKLNrR",
        "outputId": "d91f228e-80d5-4cba-ee83-139c6daaa9fe"
      },
      "execution_count": 41,
      "outputs": [
        {
          "output_type": "stream",
          "name": "stdout",
          "text": [
            "[24, 25, 26, 27, 29, 30, 32]\n",
            "['T7', 'C5', 'C3', 'C1', 'C2', 'C4', 'T8']\n"
          ]
        }
      ]
    },
    {
      "cell_type": "markdown",
      "source": [
        "- Get the data from X_train matrix"
      ],
      "metadata": {
        "id": "guJZNAzhMMJO"
      }
    },
    {
      "cell_type": "code",
      "source": [
        "X_train_run_one = X_train_by_trial[:, channels_for_model, :]"
      ],
      "metadata": {
        "id": "efpVywvPLRMC"
      },
      "execution_count": 42,
      "outputs": []
    },
    {
      "cell_type": "code",
      "source": [
        "X_train_run_one.shape"
      ],
      "metadata": {
        "colab": {
          "base_uri": "https://localhost:8080/"
        },
        "id": "mMkn3sAsM5_K",
        "outputId": "b295b444-a1f4-4ca4-8c70-d6666bf4d588"
      },
      "execution_count": 43,
      "outputs": [
        {
          "output_type": "execute_result",
          "data": {
            "text/plain": [
              "(200, 7, 7)"
            ]
          },
          "metadata": {},
          "execution_count": 43
        }
      ]
    },
    {
      "cell_type": "markdown",
      "source": [
        "- Filter alpha and beta signal"
      ],
      "metadata": {
        "id": "At9JimUkOpeq"
      }
    },
    {
      "cell_type": "code",
      "source": [
        "# alpha and beta filter - From article main: somatotopically matched sensorimotor 7–30 Hz rhythms were diminished over pericentral cortices.\n",
        "sample_rate = 100\n",
        "fp = np.array([[8, 13], [13.5, 30]])\n",
        "fs = np.array([[7.5, 13.5], [13, 30.5]])\n",
        "wp = fp/(sample_rate/2)\n",
        "ws = fs/(sample_rate/2)\n",
        "\n",
        "gpass = [1, 3]\n",
        "gstop = 20\n",
        "\n",
        "fig = plt.figure(figsize=(8, 6))\n",
        "plt.rcParams.update({\"font.size\": 14})\n",
        "ax = fig.add_subplot(1, 1, 1)\n",
        "\n",
        "for i in range(wp.shape[0]):\n",
        "\n",
        "  N, Wn = signal.cheb2ord(wp[i, :], ws[i, :], gpass[i], gstop)\n",
        "  b, a = signal.cheby2(N, gstop, Wn, 'bandpass')\n",
        "  w, h = signal.freqz(b, a)\n",
        "  ax.semilogx(w/np.pi, 20*np.log10(abs(h)))\n",
        "\n",
        "ax.set_xlabel('Normalized frequency')\n",
        "ax.set_ylabel('Amplitude [dB]')\n",
        "ax.grid(which='both', axis='both')\n",
        "ax.axis([0.02, 0.4, -50, 5])\n",
        "plt.show()"
      ],
      "metadata": {
        "colab": {
          "base_uri": "https://localhost:8080/",
          "height": 555
        },
        "id": "U--OLsNcNhAK",
        "outputId": "c15719d3-34f7-49a6-f9e5-8e4cb89690d6"
      },
      "execution_count": 44,
      "outputs": [
        {
          "output_type": "display_data",
          "data": {
            "text/plain": [
              "<Figure size 800x600 with 1 Axes>"
            ],
            "image/png": "[encoded data removed]"
          },
          "metadata": {}
        }
      ]
    },
    {
      "cell_type": "code",
      "source": [
        "# fft comparing plot function\n",
        "def fft_comparing_plot(data1, data2, f, ch_names, T, interval):\n",
        "\n",
        "  print(data1.shape)\n",
        "  print(data2.shape)\n",
        "\n",
        "  N_channels = len(ch_names)\n",
        "  fig = plt.figure(figsize=(12, 8))\n",
        "  plt.rcParams.update({\"font.size\": 14})\n",
        "  start_plot = math.floor(interval[0]*T)\n",
        "  end_plot = math.floor(interval[1]*T)\n",
        "\n",
        "  for i in range(N_channels):\n",
        "\n",
        "    ax = fig.add_subplot(N_channels, 1, i + 1)\n",
        "    ax.plot(f[start_plot:end_plot], data1[start_plot:end_plot, i])\n",
        "    ax.plot(f[start_plot:end_plot], data2[start_plot:end_plot, i])\n",
        "    ax.set_ylabel(ch_names[i])\n",
        "\n",
        "    if(i==1):\n",
        "\n",
        "      ax.set_xlabel('Frequency (Hz)')\n",
        "      ax.legend(['Alfa', 'Beta'])\n",
        "\n",
        "  plt.show()"
      ],
      "metadata": {
        "id": "UHXFdriKRin9"
      },
      "execution_count": 45,
      "outputs": []
    },
    {
      "cell_type": "markdown",
      "source": [
        "- For all the trials, will be considered -1 as left and 1 as right"
      ],
      "metadata": {
        "id": "qS_fjJ7QCa4s"
      }
    },
    {
      "cell_type": "code",
      "source": [
        "# Extract the last column containing labels\n",
        "labels = tranning_matrix[:, -1]\n",
        "\n",
        "# Create a boolean mask to filter rows with label equals -1\n",
        "mask = (labels == -1)\n",
        "\n",
        "# Use the mask to filter the original array\n",
        "left_trials = tranning_matrix[mask][:, 0:59]"
      ],
      "metadata": {
        "id": "fNImtDrkGYnO"
      },
      "execution_count": 46,
      "outputs": []
    },
    {
      "cell_type": "code",
      "source": [
        "# Extract the last column containing labels\n",
        "labels = tranning_matrix[:, -1]\n",
        "\n",
        "# Create a boolean mask to filter rows with label equals -1\n",
        "mask = (labels == 1)\n",
        "\n",
        "# Use the mask to filter the original array\n",
        "right_trials = tranning_matrix[mask][:, 0:59]"
      ],
      "metadata": {
        "id": "KEZ-EyzcGuFV"
      },
      "execution_count": 47,
      "outputs": []
    },
    {
      "cell_type": "code",
      "source": [
        "left_trials = left_trials.reshape(100, 59, 7)"
      ],
      "metadata": {
        "id": "JsRGvpK_HM0Q"
      },
      "execution_count": 48,
      "outputs": []
    },
    {
      "cell_type": "code",
      "source": [
        "right_trials = right_trials.reshape(100, 59, 7)"
      ],
      "metadata": {
        "id": "BdXKAnW6GyuX"
      },
      "execution_count": 49,
      "outputs": []
    },
    {
      "cell_type": "code",
      "source": [
        "left_trials.shape"
      ],
      "metadata": {
        "colab": {
          "base_uri": "https://localhost:8080/"
        },
        "id": "9xkCwNZmOUmw",
        "outputId": "222968d7-d063-43ee-85b5-46256827fe54"
      },
      "execution_count": 50,
      "outputs": [
        {
          "output_type": "execute_result",
          "data": {
            "text/plain": [
              "(100, 59, 7)"
            ]
          },
          "metadata": {},
          "execution_count": 50
        }
      ]
    },
    {
      "cell_type": "code",
      "source": [
        "right_trials.shape"
      ],
      "metadata": {
        "colab": {
          "base_uri": "https://localhost:8080/"
        },
        "id": "79HxxDzmOWSa",
        "outputId": "5bbfaaab-9d99-4626-f850-e4cbc01aa11c"
      },
      "execution_count": 51,
      "outputs": [
        {
          "output_type": "execute_result",
          "data": {
            "text/plain": [
              "(100, 59, 7)"
            ]
          },
          "metadata": {},
          "execution_count": 51
        }
      ]
    },
    {
      "cell_type": "code",
      "source": [
        "# alpha fft plot after filtering\n",
        "N_alpha, Wn_alpha = signal.cheb2ord(wp[0, :], ws[0, :], gpass[0], gstop)\n",
        "sos_alpha = signal.cheby2(N_alpha, gstop, Wn_alpha, 'bandpass', output='sos')\n",
        "\n",
        "N_beta, Wn_beta = signal.cheb2ord(wp[1, :], ws[1, :], gpass[1], gstop)\n",
        "sos_beta = signal.cheby2(N_beta, gstop, Wn_beta, 'bandpass', output='sos')\n",
        "\n",
        "right_data = right_trials[:, channels_for_model, :]\n",
        "alpha_right_hand = signal.sosfilt(sos_alpha, right_data, axis=0)\n",
        "fft_alpha_right_hand = np.abs(fft(alpha_right_hand, axis=0))\n",
        "\n",
        "left_data = left_trials[:, channels_for_model, :]\n",
        "alpha_left_hand = signal.sosfilt(sos_alpha, left_data, axis=0)\n",
        "fft_alpha_left_hand = np.abs(fft(alpha_left_hand, axis=0))"
      ],
      "metadata": {
        "id": "Crlxt3wqSYTb"
      },
      "execution_count": 52,
      "outputs": []
    },
    {
      "cell_type": "code",
      "source": [
        "# feature extraction\n",
        "right_data = segmenting_3d(right_trials[:, channels_for_model, :], 1.5, sample_rate)\n",
        "alpha_right_hand = signal.sosfilt(sos_alpha, right_data, axis=0)\n",
        "beta_right_hand = signal.sosfilt(sos_beta, right_data, axis=0)\n",
        "\n",
        "left_data = segmenting_3d(left_trials[:, channels_for_model, :], 1.5, sample_rate)\n",
        "alpha_left_hand = signal.sosfilt(sos_alpha, left_data, axis=0)\n",
        "beta_left_hand = signal.sosfilt(sos_beta, left_data, axis=0)\n",
        "\n",
        "log_var_alpha_right = np.log(np.var(alpha_right_hand, axis=0))\n",
        "log_var_alpha_left = np.log(np.var(alpha_left_hand, axis=0))\n",
        "\n",
        "log_var_beta_right = np.log(np.var(beta_right_hand, axis=0))\n",
        "log_var_beta_left = np.log(np.var(beta_left_hand, axis=0))"
      ],
      "metadata": {
        "id": "5dEddd8_3x4M"
      },
      "execution_count": 187,
      "outputs": []
    },
    {
      "cell_type": "code",
      "source": [
        "log_var_alpha_left.shape"
      ],
      "metadata": {
        "colab": {
          "base_uri": "https://localhost:8080/"
        },
        "id": "lahgN_V5IuWH",
        "outputId": "771ac7ff-2c9b-4c65-944a-f29a6b8cbe7c"
      },
      "execution_count": 188,
      "outputs": [
        {
          "output_type": "execute_result",
          "data": {
            "text/plain": [
              "(7, 4)"
            ]
          },
          "metadata": {},
          "execution_count": 188
        }
      ]
    },
    {
      "cell_type": "code",
      "source": [
        "# basic settings\n",
        "N_samples, N_channels = samples[0]['cnt'].shape\n",
        "N_samples = 100 # samples[0]['cnt'].shape[0]\n",
        "T = N_samples/sample_rate\n",
        "t = np.arange(0, T, 1/sample_rate)\n",
        "f = np.arange(0, sample_rate, 1/T)"
      ],
      "metadata": {
        "id": "Q8b2xY_lISHL"
      },
      "execution_count": 189,
      "outputs": []
    },
    {
      "cell_type": "code",
      "source": [
        "fft_comparing_plot(fft_alpha_right_hand[:, :, 1], fft_alpha_left_hand[:, :, 1], f, channels_for_model, T, [0, 1000])"
      ],
      "metadata": {
        "colab": {
          "base_uri": "https://localhost:8080/",
          "height": 718
        },
        "id": "UseKnSJMTCcC",
        "outputId": "b8750306-75e6-40d6-81b0-698a689d59bf"
      },
      "execution_count": 190,
      "outputs": [
        {
          "output_type": "stream",
          "name": "stdout",
          "text": [
            "(100, 7)\n",
            "(100, 7)\n"
          ]
        },
        {
          "output_type": "display_data",
          "data": {
            "text/plain": [
              "<Figure size 1200x800 with 7 Axes>"
            ],
            "image/png": "[encoded data removed]"
          },
          "metadata": {}
        }
      ]
    },
    {
      "cell_type": "code",
      "source": [
        "# alpha and beta filters\n",
        "N_alpha, Wn_alpha = signal.cheb2ord(wp[0, :], ws[0, :], gpass[0], gstop)\n",
        "sos_alpha = signal.cheby2(N_alpha, gstop, Wn_alpha, 'bandpass', output='sos')\n",
        "N_beta, Wn_beta = signal.cheb2ord(wp[1, :], ws[1, :], gpass[1], gstop)\n",
        "sos_beta = signal.cheby2(N_beta, gstop, Wn_beta, 'bandpass', output='sos')"
      ],
      "metadata": {
        "id": "Kh0PR2YAUKTq"
      },
      "execution_count": 191,
      "outputs": []
    },
    {
      "cell_type": "code",
      "source": [
        "# preprossing\n",
        "seg_data = segmenting_3d(X_train_by_trial[:, channels_for_model, :], 1.5, sample_rate)\n",
        "alpha_seg_data = signal.sosfilt(sos_alpha, seg_data, axis=0)\n",
        "beta_seg_data = signal.sosfilt(sos_beta, seg_data, axis=0)\n",
        "\n",
        "# feature extraction\n",
        "log_var_alpha = np.log(np.var(alpha_seg_data, axis=0))\n",
        "log_var_beta = np.log(np.var(beta_seg_data, axis=0))"
      ],
      "metadata": {
        "id": "ReiDvrqMIe1n"
      },
      "execution_count": 204,
      "outputs": []
    },
    {
      "cell_type": "code",
      "source": [
        "alpha_seg_data.shape"
      ],
      "metadata": {
        "colab": {
          "base_uri": "https://localhost:8080/"
        },
        "id": "aYKBh4BvgfzH",
        "outputId": "4c2eb40b-0b12-475c-f051-fb0c3fb2e281"
      },
      "execution_count": 205,
      "outputs": [
        {
          "output_type": "execute_result",
          "data": {
            "text/plain": [
              "(150, 7, 9)"
            ]
          },
          "metadata": {},
          "execution_count": 205
        }
      ]
    },
    {
      "cell_type": "code",
      "source": [
        "# kfold cross validation\n",
        "kf = KFold(n_splits=5, shuffle=True)"
      ],
      "metadata": {
        "id": "uRYuXHI_KeIt"
      },
      "execution_count": 228,
      "outputs": []
    },
    {
      "cell_type": "code",
      "source": [
        "log_var_alpha_left.shape"
      ],
      "metadata": {
        "colab": {
          "base_uri": "https://localhost:8080/"
        },
        "id": "DrByyM2q1jjY",
        "outputId": "f7221f01-0516-4417-f2ce-1115052ed058"
      },
      "execution_count": 229,
      "outputs": [
        {
          "output_type": "execute_result",
          "data": {
            "text/plain": [
              "(7, 4)"
            ]
          },
          "metadata": {},
          "execution_count": 229
        }
      ]
    },
    {
      "cell_type": "code",
      "source": [
        "def mount_attribute_matrix(log_var_alpha_left, log_var_beta_left, log_var_alpha_right, log_var_beta_right):\n",
        "\n",
        "  # attribute matrix\n",
        "  vstack_left_hand = np.vstack(\n",
        "      (log_var_alpha_left[:, :], log_var_beta_left[:, :]))\n",
        "  vstack_right_hand = np.vstack(\n",
        "      (log_var_alpha_right[:, :], log_var_beta_right[:, :]))\n",
        "  X = np.hstack((vstack_left_hand, vstack_right_hand))\n",
        "  X = np.transpose(X)\n",
        "\n",
        "  # label vector\n",
        "  N_seg = log_var_alpha_left.shape[1]\n",
        "  lv = np.hstack((np.ones(N_seg), -np.ones(N_seg)))\n",
        "\n",
        "  # shuffle\n",
        "  idx = np.arange(2*N_seg)\n",
        "  np.random.shuffle(idx)\n",
        "  X = X[idx,]\n",
        "  lv = lv[idx,]\n",
        "\n",
        "  return X, lv"
      ],
      "metadata": {
        "id": "bHhJqvOmKkQ7"
      },
      "execution_count": 230,
      "outputs": []
    },
    {
      "cell_type": "code",
      "source": [
        "mount_attribute_matrix(log_var_alpha_left, log_var_beta_left, log_var_alpha_right, log_var_beta_right)"
      ],
      "metadata": {
        "colab": {
          "base_uri": "https://localhost:8080/"
        },
        "id": "q_3cXvqn1zk3",
        "outputId": "104d12eb-5d71-4d68-c49b-9ffe84b9f038"
      },
      "execution_count": 231,
      "outputs": [
        {
          "output_type": "execute_result",
          "data": {
            "text/plain": [
              "(array([[5.9008735 , 5.71804463, 5.17944615, 4.89004849, 5.03683168,\n",
              "         5.04584799, 5.14041963, 6.56831719, 6.74156247, 6.51125114,\n",
              "         6.09733699, 6.3139282 , 6.20370594, 6.14026093],\n",
              "        [5.60445846, 5.22582783, 6.50325497, 5.50747548, 5.7231918 ,\n",
              "         5.75848191, 5.75095064, 6.81308422, 6.26862705, 8.61811412,\n",
              "         6.13566814, 6.02277712, 6.40667594, 6.16048747],\n",
              "        [5.63101004, 5.16908113, 5.11246657, 5.00069926, 4.8537289 ,\n",
              "         4.68262119, 5.06143956, 6.20617276, 6.48260048, 6.56933614,\n",
              "         6.25295776, 6.02856607, 6.23282672, 6.64329021],\n",
              "        [5.69110316, 5.19667978, 5.28292887, 6.17360811, 5.12887922,\n",
              "         5.03113329, 4.70540451, 6.57445329, 6.60332144, 6.1513439 ,\n",
              "         6.54006367, 6.04470399, 5.97369808, 6.07218068],\n",
              "        [6.21246255, 5.55726817, 4.93828664, 5.28290222, 5.35991114,\n",
              "         5.16665497, 5.80847906, 6.84168963, 6.69236709, 6.26829688,\n",
              "         6.41509051, 6.26004652, 5.81918981, 5.8235417 ],\n",
              "        [5.71506428, 5.39702814, 5.33285472, 5.57610643, 5.40023169,\n",
              "         5.28135528, 5.57463235, 6.75084193, 7.11992136, 6.38602141,\n",
              "         6.05757869, 5.95018176, 5.99320869, 5.96630143],\n",
              "        [5.52918483, 5.46116049, 5.40990223, 5.359214  , 5.52289119,\n",
              "         4.85806904, 5.28983906, 6.55312316, 6.57783463, 6.58955961,\n",
              "         6.71150206, 6.78373253, 6.21280103, 6.45632646],\n",
              "        [5.75038382, 5.15971517, 4.85438922, 5.72938171, 4.54197766,\n",
              "         4.94061878, 5.15418926, 6.622468  , 6.90907408, 6.56584948,\n",
              "         7.26509981, 6.28516995, 6.36920906, 6.72448439]]),\n",
              " array([ 1., -1.,  1., -1., -1., -1.,  1.,  1.]))"
            ]
          },
          "metadata": {},
          "execution_count": 231
        }
      ]
    },
    {
      "cell_type": "code",
      "source": [
        "def linear_classifier_training(X, lv):\n",
        "\n",
        "  X = np.hstack((np.ones((X.shape[0], 1)), X))\n",
        "  w = np.matmul(np.linalg.pinv(X), lv)\n",
        "\n",
        "  return w"
      ],
      "metadata": {
        "id": "YiC7UBccKnul"
      },
      "execution_count": 232,
      "outputs": []
    },
    {
      "cell_type": "code",
      "source": [
        "def linear_classifier_predicting(X, w):\n",
        "\n",
        "  X = np.hstack((np.ones((X.shape[0], 1)), X))\n",
        "  g = np.matmul(X, np.transpose(w))\n",
        "\n",
        "  return g"
      ],
      "metadata": {
        "id": "5agjJF6QPveB"
      },
      "execution_count": 233,
      "outputs": []
    },
    {
      "cell_type": "code",
      "source": [
        "print(log_var_alpha.shape)"
      ],
      "metadata": {
        "colab": {
          "base_uri": "https://localhost:8080/"
        },
        "id": "-GwZNC7OnU1S",
        "outputId": "63d051de-a4b5-4501-ab35-bf4ce284db6f"
      },
      "execution_count": 234,
      "outputs": [
        {
          "output_type": "stream",
          "name": "stdout",
          "text": [
            "(7, 9)\n"
          ]
        }
      ]
    },
    {
      "cell_type": "code",
      "source": [
        "for i, (train_idx, test_idx) in enumerate(kf.split(range(seg_data.shape[-1]))):\n",
        "\n",
        "  print(i)\n",
        "\n",
        "  # attribute matrix\n",
        "  X_train, lv_train = mount_attribute_matrix(log_var_alpha_left, log_var_beta_left, log_var_alpha_right, log_var_beta_right)\n",
        "  X_test, lv_test =mount_attribute_matrix(log_var_alpha_left, log_var_beta_left, log_var_alpha_right, log_var_beta_right)\n",
        "\n",
        "  # classifier training\n",
        "  w = linear_classifier_training(X_train, lv_train)\n",
        "\n",
        "  # classfier predicting\n",
        "  g = linear_classifier_predicting(X_test, w)\n",
        "\n",
        "  # evaluating\n",
        "  N_erros = len(np.where((np.sign(g) - lv_test) != 0)[0])\n",
        "  rate = (X_test.shape[0] - N_erros)/(X_test.shape[0])\n",
        "\n",
        "  if i == 0:\n",
        "\n",
        "    cat_w = w\n",
        "    cat_rate = rate\n",
        "\n",
        "  else:\n",
        "\n",
        "    cat_w = np.vstack((cat_w, w))\n",
        "    cat_rate = np.hstack((cat_rate, rate))"
      ],
      "metadata": {
        "colab": {
          "base_uri": "https://localhost:8080/"
        },
        "id": "VdOdWYhmKfCe",
        "outputId": "9d04d7c1-119b-4845-f495-015bedab50e9"
      },
      "execution_count": 235,
      "outputs": [
        {
          "output_type": "stream",
          "name": "stdout",
          "text": [
            "0\n",
            "1\n",
            "2\n",
            "3\n",
            "4\n"
          ]
        }
      ]
    },
    {
      "cell_type": "code",
      "source": [
        "X_train.shape"
      ],
      "metadata": {
        "colab": {
          "base_uri": "https://localhost:8080/"
        },
        "id": "9LWBZ9HUQH7I",
        "outputId": "00f43c9c-4b2c-4a17-8673-d16c5a220e53"
      },
      "execution_count": 236,
      "outputs": [
        {
          "output_type": "execute_result",
          "data": {
            "text/plain": [
              "(8, 14)"
            ]
          },
          "metadata": {},
          "execution_count": 236
        }
      ]
    },
    {
      "cell_type": "code",
      "source": [
        "# projection of classifier boundary\n",
        "x = np.linspace(np.min(X_train[:, [0, 1]]), np.max(X_train[:, [0, 1]]), 100)\n",
        "z = np.mean(X_train[:, 0])\n",
        "w = np.mean(X_train[:, 1])\n",
        "\n",
        "for i in range(cat_w.shape[0]):\n",
        "\n",
        "  a = -cat_w[i, 0]/cat_w[i, 1]\n",
        "  b = -(cat_w[i, 0]*z + cat_w[i, 1]*w)/cat_w[i, 1]\n",
        "  y = a*x + b\n",
        "\n",
        "  if i == 0:\n",
        "\n",
        "    cat_y = y\n",
        "\n",
        "  else:\n",
        "\n",
        "    cat_y = np.vstack((cat_y, y))\n",
        "\n",
        "mean_y = np.mean(cat_y, axis=0)\n",
        "mean_rate = np.mean(cat_rate, axis=0)\n",
        "\n",
        "# alpha feature space after filtering\n",
        "fig = plt.figure(figsize=(8, 6))\n",
        "plt.rcParams.update({\"font.size\": 14})\n",
        "ax = fig.add_subplot(1, 1, 1)\n",
        "ax.plot(log_var_beta[0, :],\n",
        "        log_var_beta[1, :], 'o', label='Left', color= 'g')\n",
        "ax.plot(log_var_alpha[0, :],\n",
        "        log_var_alpha[1, :], 'o', label='Right', color = 'r')\n",
        "\n",
        "ax.plot(x, mean_y, linestyle='-', linewidth=2, color='k')\n",
        "ax.set_xlabel('log(var) of alpha at C3')\n",
        "ax.set_ylabel('log(var) of alpha at C4')\n",
        "ax.text(np.min(log_var_alpha[0, :]), np.max(log_var_alpha[1, :]),\n",
        "        r'accuracy = ' + '{:.3f}'.format(round(mean_rate, 3)))\n",
        "ax.legend(loc='lower right')\n",
        "plt.show()"
      ],
      "metadata": {
        "colab": {
          "base_uri": "https://localhost:8080/",
          "height": 552
        },
        "id": "nxqalUbXKomI",
        "outputId": "823b71a5-8810-4424-9009-19b36bfe732b"
      },
      "execution_count": 237,
      "outputs": [
        {
          "output_type": "display_data",
          "data": {
            "text/plain": [
              "<Figure size 800x600 with 1 Axes>"
            ],
            "image/png": "[encoded data removed]"
          },
          "metadata": {}
        }
      ]
    },
    {
      "cell_type": "code",
      "source": [
        "# Data for three-dimensional scattered points\n",
        "zdata = 15 * np.random.random(100)\n",
        "xdata = np.sin(zdata) + 0.1 * np.random.randn(100)\n",
        "ydata = np.cos(zdata) + 0.1 * np.random.randn(100)\n",
        "ax.scatter3D(xdata, ydata, zdata, c=zdata, cmap='Greens');"
      ],
      "metadata": {
        "id": "Jz-bmhcqmAlv",
        "colab": {
          "base_uri": "https://localhost:8080/",
          "height": 218
        },
        "outputId": "b45d660f-a199-4d33-e08b-146761ec1c82"
      },
      "execution_count": 74,
      "outputs": [
        {
          "output_type": "error",
          "ename": "AttributeError",
          "evalue": "ignored",
          "traceback": [
            "\u001b[0;31m---------------------------------------------------------------------------\u001b[0m",
            "\u001b[0;31mAttributeError\u001b[0m                            Traceback (most recent call last)",
            "\u001b[0;32m<ipython-input-74-5c28493d3bc7>\u001b[0m in \u001b[0;36m<cell line: 5>\u001b[0;34m()\u001b[0m\n\u001b[1;32m      3\u001b[0m \u001b[0mxdata\u001b[0m \u001b[0;34m=\u001b[0m \u001b[0mnp\u001b[0m\u001b[0;34m.\u001b[0m\u001b[0msin\u001b[0m\u001b[0;34m(\u001b[0m\u001b[0mzdata\u001b[0m\u001b[0;34m)\u001b[0m \u001b[0;34m+\u001b[0m \u001b[0;36m0.1\u001b[0m \u001b[0;34m*\u001b[0m \u001b[0mnp\u001b[0m\u001b[0;34m.\u001b[0m\u001b[0mrandom\u001b[0m\u001b[0;34m.\u001b[0m\u001b[0mrandn\u001b[0m\u001b[0;34m(\u001b[0m\u001b[0;36m100\u001b[0m\u001b[0;34m)\u001b[0m\u001b[0;34m\u001b[0m\u001b[0;34m\u001b[0m\u001b[0m\n\u001b[1;32m      4\u001b[0m \u001b[0mydata\u001b[0m \u001b[0;34m=\u001b[0m \u001b[0mnp\u001b[0m\u001b[0;34m.\u001b[0m\u001b[0mcos\u001b[0m\u001b[0;34m(\u001b[0m\u001b[0mzdata\u001b[0m\u001b[0;34m)\u001b[0m \u001b[0;34m+\u001b[0m \u001b[0;36m0.1\u001b[0m \u001b[0;34m*\u001b[0m \u001b[0mnp\u001b[0m\u001b[0;34m.\u001b[0m\u001b[0mrandom\u001b[0m\u001b[0;34m.\u001b[0m\u001b[0mrandn\u001b[0m\u001b[0;34m(\u001b[0m\u001b[0;36m100\u001b[0m\u001b[0;34m)\u001b[0m\u001b[0;34m\u001b[0m\u001b[0;34m\u001b[0m\u001b[0m\n\u001b[0;32m----> 5\u001b[0;31m \u001b[0max\u001b[0m\u001b[0;34m.\u001b[0m\u001b[0mscatter3D\u001b[0m\u001b[0;34m(\u001b[0m\u001b[0mxdata\u001b[0m\u001b[0;34m,\u001b[0m \u001b[0mydata\u001b[0m\u001b[0;34m,\u001b[0m \u001b[0mzdata\u001b[0m\u001b[0;34m,\u001b[0m \u001b[0mc\u001b[0m\u001b[0;34m=\u001b[0m\u001b[0mzdata\u001b[0m\u001b[0;34m,\u001b[0m \u001b[0mcmap\u001b[0m\u001b[0;34m=\u001b[0m\u001b[0;34m'Greens'\u001b[0m\u001b[0;34m)\u001b[0m\u001b[0;34m;\u001b[0m\u001b[0;34m\u001b[0m\u001b[0;34m\u001b[0m\u001b[0m\n\u001b[0m",
            "\u001b[0;31mAttributeError\u001b[0m: 'Axes' object has no attribute 'scatter3D'"
          ]
        }
      ]
    },
    {
      "cell_type": "code",
      "source": [
        "!gdown --folder https://drive.google.com/drive/folders/18hjiMDJdMB_Hd2EeYOaWx38dKqxyIuNi"
      ],
      "metadata": {
        "colab": {
          "base_uri": "https://localhost:8080/"
        },
        "id": "w9mLatWMT5v1",
        "outputId": "ba540024-e395-4575-eb59-e9b0109d79e1"
      },
      "execution_count": null,
      "outputs": [
        {
          "output_type": "stream",
          "name": "stdout",
          "text": [
            "Retrieving folder list\n",
            "Processing file 1HpdhmxHzADsURU68JLGh9n5s7-x8PQly BCICIV_eval_ds1a_1000Hz.mat\n",
            "Processing file 1rj8ZDHgWDOevPTLHsBuMQmaTRHmyZViy BCICIV_eval_ds1b_1000Hz.mat\n",
            "Processing file 1-dhuy5UINOw3P7rcYJdhHPAeAWh2ohF8 BCICIV_eval_ds1c_1000Hz.mat\n",
            "Processing file 1SScGUhnGZqEKkUBpwkS7Ij45xSQjtKwe BCICIV_eval_ds1d_1000Hz.mat\n",
            "Processing file 1rqMfRPConiPwq_-pqMrEAHLsaw_kfMpv BCICIV_eval_ds1e_1000Hz.mat\n",
            "Processing file 1L5bTK_YUYoh77Zg8JDfSUY2b55i8IGLd BCICIV_eval_ds1f_1000Hz.mat\n",
            "Processing file 1KlbFYUREru3GD2UH81cb2NIIVmn5Br1C BCICIV_eval_ds1g_1000Hz.mat\n",
            "Retrieving folder list completed\n",
            "Building directory structure\n",
            "Building directory structure completed\n",
            "Downloading...\n",
            "From: https://drive.google.com/uc?id=1HpdhmxHzADsURU68JLGh9n5s7-x8PQly\n",
            "To: /content/BCICIV_1eval_1000Hz_mat/BCICIV_eval_ds1a_1000Hz.mat\n",
            "100% 208M/208M [00:03<00:00, 51.9MB/s]\n",
            "Downloading...\n",
            "From: https://drive.google.com/uc?id=1rj8ZDHgWDOevPTLHsBuMQmaTRHmyZViy\n",
            "To: /content/BCICIV_1eval_1000Hz_mat/BCICIV_eval_ds1b_1000Hz.mat\n",
            "100% 291M/291M [00:02<00:00, 109MB/s]\n",
            "Downloading...\n",
            "From: https://drive.google.com/uc?id=1-dhuy5UINOw3P7rcYJdhHPAeAWh2ohF8\n",
            "To: /content/BCICIV_1eval_1000Hz_mat/BCICIV_eval_ds1c_1000Hz.mat\n",
            "100% 275M/275M [00:03<00:00, 82.5MB/s]\n",
            "Downloading...\n",
            "From: https://drive.google.com/uc?id=1SScGUhnGZqEKkUBpwkS7Ij45xSQjtKwe\n",
            "To: /content/BCICIV_1eval_1000Hz_mat/BCICIV_eval_ds1d_1000Hz.mat\n",
            "100% 289M/289M [00:04<00:00, 61.9MB/s]\n",
            "Downloading...\n",
            "From: https://drive.google.com/uc?id=1rqMfRPConiPwq_-pqMrEAHLsaw_kfMpv\n",
            "To: /content/BCICIV_1eval_1000Hz_mat/BCICIV_eval_ds1e_1000Hz.mat\n",
            "100% 281M/281M [00:05<00:00, 52.7MB/s]\n",
            "Downloading...\n",
            "From: https://drive.google.com/uc?id=1L5bTK_YUYoh77Zg8JDfSUY2b55i8IGLd\n",
            "To: /content/BCICIV_1eval_1000Hz_mat/BCICIV_eval_ds1f_1000Hz.mat\n",
            "100% 282M/282M [00:04<00:00, 59.4MB/s]\n",
            "Downloading...\n",
            "From: https://drive.google.com/uc?id=1KlbFYUREru3GD2UH81cb2NIIVmn5Br1C\n",
            "To: /content/BCICIV_1eval_1000Hz_mat/BCICIV_eval_ds1g_1000Hz.mat\n",
            "100% 287M/287M [00:02<00:00, 107MB/s] \n",
            "Download completed\n"
          ]
        }
      ]
    },
    {
      "cell_type": "code",
      "source": [
        "# test data\n",
        "path = '/content/BCICIV_1eval_1000Hz_mat'\n",
        "dataFiles = r''+path+'/*.mat'\n",
        "files = glob.glob(dataFiles)\n",
        "files.sort()\n",
        "\n",
        "test_samples = [load_mat_file(f) for f in files]"
      ],
      "metadata": {
        "id": "AElkxKz1P5kZ"
      },
      "execution_count": null,
      "outputs": []
    },
    {
      "cell_type": "code",
      "source": [
        "test_samples[0]['cnt']"
      ],
      "metadata": {
        "colab": {
          "base_uri": "https://localhost:8080/"
        },
        "id": "0mbyKEttUwq-",
        "outputId": "0e7848d0-c2e5-4f0e-c9ff-06ba48b3501b"
      },
      "execution_count": null,
      "outputs": [
        {
          "output_type": "execute_result",
          "data": {
            "text/plain": [
              "array([ -55, -158, -373, -372,  -61, -258, -141, -258, -140, -553,  307,\n",
              "        -59, -309, -251, -420,  230,  277,  424, -343, -171, -378, -381,\n",
              "       -387, -333,  122,  257, -222, -170, -409, -406, -332, -444, -165,\n",
              "        -22, -179, -139, -341, -416, -303, -496, -280, -105, -372, -424,\n",
              "       -317, -447, -354, -246, -178, -248, -411, -359, -311, -381, -299,\n",
              "       -267, -386, -318, -295], dtype=int16)"
            ]
          },
          "metadata": {},
          "execution_count": 360
        }
      ]
    },
    {
      "cell_type": "code",
      "source": [
        "X_test = []"
      ],
      "metadata": {
        "id": "GB4kriAhUpjL"
      },
      "execution_count": null,
      "outputs": []
    },
    {
      "cell_type": "code",
      "source": [
        "for sample in test_samples:\n",
        "  X_test.append(sample['cnt']*0.1) # Convert to Volt"
      ],
      "metadata": {
        "id": "ipFp1iJBTkRv"
      },
      "execution_count": null,
      "outputs": []
    },
    {
      "cell_type": "code",
      "source": [
        "X_test = np.vstack(X_test)"
      ],
      "metadata": {
        "id": "oG7yTOHkUnzb"
      },
      "execution_count": null,
      "outputs": []
    }
  ]
}